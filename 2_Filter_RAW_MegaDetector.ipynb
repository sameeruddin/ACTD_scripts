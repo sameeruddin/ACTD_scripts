{
 "cells": [
  {
   "cell_type": "code",
   "execution_count": 1,
   "id": "03dbbb66",
   "metadata": {},
   "outputs": [],
   "source": [
    "# verify the library installation for Mega Detector\n",
    "from utils.general import non_max_suppression, scale_coords, xyxy2xywh\n",
    "from utils.augmentations import letterbox\n",
    "import visualization.visualization_utils as viz_utils\n",
    "import numpy as np\n",
    "import ct_utils\n",
    "import os\n",
    "import torchvision.transforms as T\n",
    "import torch\n",
    "from PIL import Image\n",
    "import cv2\n",
    "import torch.backends.cudnn as cudnn\n",
    "import torch.nn as nn\n",
    "import shutil"
   ]
  },
  {
   "cell_type": "code",
   "execution_count": 2,
   "id": "3a8610aa",
   "metadata": {},
   "outputs": [
    {
     "name": "stdout",
     "output_type": "stream",
     "text": [
      "PyTorch detected: NVIDIA GeForce RTX 4090 for processing.. \n",
      "Numbe of GPUs found: 1\n"
     ]
    }
   ],
   "source": [
    "# verifying the availability of the GPUs\n",
    "if torch.cuda.is_available():\n",
    "    device = \"cuda\"\n",
    "    print(f\"PyTorch detected: {torch.cuda.get_device_name(0)} for processing.. \")\n",
    "    print(f\"Numbe of GPUs found: {torch.cuda.device_count()}\")\n",
    "    device = torch.device(\"cuda\") # if there are multiple GPUs assign the Device Id\n",
    "    cudnn.benchmark = True\n",
    "else:\n",
    "    device = \"cpu\""
   ]
  },
  {
   "cell_type": "code",
   "execution_count": 3,
   "id": "1b318d07",
   "metadata": {},
   "outputs": [],
   "source": [
    "current_path = os.getcwd()\n",
    "md_model_path = os.path.join(r'D:\\PhD\\work_space\\Detectifier\\v1\\Detect\\md_v5b.0.0.pt')\n",
    "#input_dir_path = os.path.join(current_path, 'RAW', 'OOB_2')\n",
    "#output_dir_path = os.path.join(current_path, 'Filter', 'OOB')"
   ]
  },
  {
   "cell_type": "code",
   "execution_count": 4,
   "id": "b87f5f18",
   "metadata": {},
   "outputs": [
    {
     "name": "stdout",
     "output_type": "stream",
     "text": [
      "Loading a model onto the cuda for inference analysis.. \n"
     ]
    },
    {
     "name": "stderr",
     "output_type": "stream",
     "text": [
      "Fusing layers... \n",
      "Model summary: 574 layers, 139990096 parameters, 0 gradients, 207.9 GFLOPs\n"
     ]
    },
    {
     "name": "stdout",
     "output_type": "stream",
     "text": [
      "[info]: Model is loaded to the cuda\n"
     ]
    }
   ],
   "source": [
    "print(f'Loading a model onto the {device} for inference analysis.. ')\n",
    "try:\n",
    "    model_checkpoint = torch.load(md_model_path, device)\n",
    "    model = model_checkpoint['model'].float().fuse().eval()\n",
    "    print(f'[info]: Model is loaded to the {device}')\n",
    "except OSError as oer:\n",
    "    print(oer)"
   ]
  },
  {
   "cell_type": "code",
   "execution_count": 5,
   "id": "355c90d7",
   "metadata": {},
   "outputs": [],
   "source": [
    "for m in model.modules():\n",
    "    if isinstance(m, nn.Upsample):\n",
    "        m.recompute_scale_factor = None"
   ]
  },
  {
   "cell_type": "code",
   "execution_count": 6,
   "id": "8a7611aa",
   "metadata": {},
   "outputs": [],
   "source": [
    "# Variables used by the megadetector model\n",
    "IMAGE_SIZE = 1280  # image size used in training\n",
    "STRIDE = 64\n",
    "DETECTION_THRESHOLD = 0.25\n",
    "# Label mapping for MegaDetector\n",
    "DEFAULT_DETECTOR_LABEL_MAP = ['animal', 'person', 'vehicle']"
   ]
  },
  {
   "cell_type": "code",
   "execution_count": 7,
   "id": "00f3e310",
   "metadata": {},
   "outputs": [],
   "source": [
    "def MegaDetector_Filter(input_image_path, output_category_dir_path):\n",
    "    \"\"\" Function to crop the animal from the images with highest confidence score \"\"\"\n",
    "    # print(input_image_path)\n",
    "    # List variables to collect the output\n",
    "    final_output = {'input_file' : f'{os.path.basename(input_image_path)}'}\n",
    "    tot_detections = []\n",
    "    labels = []\n",
    "    bbox = []\n",
    "    scores = []\n",
    "    max_conf = 0.0\n",
    "    # print(f'Pre-processing {os.path.basename(input_image_path)} file.. ')\n",
    "    img_data = cv2.imread(input_image_path) # read the image using cv2 library\n",
    "    cpy_img_data = img_data\n",
    "    img_array = np.asarray(img_data) # Convert the image data into a numpy array\n",
    "    img_resize = letterbox(img_array, new_shape=IMAGE_SIZE, stride=STRIDE, auto=True)[0] # Resize the image shape as per the megadetector model\n",
    "    img_transpose = img_resize.transpose((2, 0, 1))  # HWC to CHW; PIL Image is RGB already\n",
    "    img = np.ascontiguousarray(img_transpose)\n",
    "    img = torch.from_numpy(img)\n",
    "    img = img.to(device)\n",
    "    img = img.float()\n",
    "    img /= 255\n",
    "    if len(img.shape) == 3:  # always true for now, TODO add inference using larger batch size\n",
    "        img = torch.unsqueeze(img, 0)\n",
    "    # print('Mega detector look for objects in the image.. ')\n",
    "    with torch.no_grad():\n",
    "        result = model(img)[0]\n",
    "    # print('Apply non-maximum supression to the results of Mega Detector... ')\n",
    "    result_nms = non_max_suppression(prediction=result, conf_thres=DETECTION_THRESHOLD) # applying non-maximum supression logic to the results\n",
    "    normalization = torch.tensor(img_array.shape)[[1, 0, 1, 0]]  # normalization gain whwh\n",
    "    # extracting the feature from the object detected\n",
    "    for detection in result_nms:\n",
    "        if len(detection):\n",
    "            detection[:, :4] = scale_coords(img.shape[2:], detection[:, :4], img_array.shape).round()\n",
    "            for *xyxy, conf, cls in reversed(detection):\n",
    "                # normalized center-x, center-y, width and height\n",
    "                xywh = (xyxy2xywh(torch.tensor(xyxy).view(1, 4)) / normalization).view(-1).tolist()\n",
    "                api_box = ct_utils.convert_yolo_to_xywh(xywh)\n",
    "                conf = ct_utils.truncate_float(conf.tolist(), precision=3)\n",
    "                # MegaDetector output format's categories start at 1, but this model's start at 0\n",
    "                cls = int(cls.tolist())\n",
    "                labels.append(DEFAULT_DETECTOR_LABEL_MAP[cls])\n",
    "                scores.append(conf)\n",
    "                bbox.append(ct_utils.truncate_float_array(api_box, precision=4))\n",
    "                tot_detections.append({ 'category': cls, 'conf': conf, 'bbox': ct_utils.truncate_float_array(api_box, precision=4)})\n",
    "                max_conf = max(max_conf, conf)\n",
    "    final_output['max_detection_conf'] = max_conf\n",
    "    final_output['detections'] = tot_detections\n",
    "    if final_output['detections']:\n",
    "        # extracting input filename\n",
    "        # img_info = (os.path.basename(input_image_path)).split('.')\n",
    "        # img_name = '.'.join(img_info)\n",
    "        # building output file path to save an image\n",
    "        # output_image_path = os.path.join(output_category_dir_path, f'{img_name}')\n",
    "        # print(final_output)\n",
    "        if final_output['detections'][0]['category'] == 0:\n",
    "            # print('Animal detected')\n",
    "            output_image_path = os.path.join(output_category_dir_path, os.path.basename(input_image_path))\n",
    "            try:\n",
    "                shutil.copy(input_image_path, output_image_path)\n",
    "            except shutil.Error as ser:\n",
    "                print(ser)"
   ]
  },
  {
   "cell_type": "code",
   "execution_count": 8,
   "id": "6deaed60",
   "metadata": {},
   "outputs": [],
   "source": [
    "def create_directory(dir_path):\n",
    "    \"\"\" Function to create a directory, if does not exists \"\"\"\n",
    "    if not os.path.isdir(dir_path):\n",
    "        os.makedirs(dir_path)\n",
    "        print(f'{os.path.basename(dir_path)}: {dir_path} directory created')"
   ]
  },
  {
   "cell_type": "code",
   "execution_count": null,
   "id": "8c852dda",
   "metadata": {},
   "outputs": [],
   "source": [
    "from tqdm import tqdm\n",
    "input_dir_list = os.listdir(input_dir_path)\n",
    "for category in input_dir_list:\n",
    "    # print(category)\n",
    "    category_dir_path = os.path.join(input_dir_path, category)\n",
    "    if os.path.isdir(category_dir_path):\n",
    "        category_dir_list = os.listdir(category_dir_path)\n",
    "        output_category_dir_path = os.path.join(output_dir_path, category)\n",
    "        create_directory(output_category_dir_path)\n",
    "        for img_file in tqdm(category_dir_list):\n",
    "            img_file_path = os.path.join(category_dir_path, img_file)\n",
    "            MegaDetector_Filter(img_file_path, output_category_dir_path)\n",
    "        break\n",
    "torch.cuda.empty_cache()"
   ]
  },
  {
   "cell_type": "markdown",
   "id": "2047fbc2",
   "metadata": {},
   "source": [
    "<h3>Ecology & Heritage Partners - Data Filtering</h3>"
   ]
  },
  {
   "cell_type": "code",
   "execution_count": 9,
   "id": "456eba9a",
   "metadata": {},
   "outputs": [
    {
     "name": "stdout",
     "output_type": "stream",
     "text": [
      "20190402-20190527: I:\\ASDC - II\\11887_Filter\\20190402-20190527 directory created\n"
     ]
    },
    {
     "name": "stderr",
     "output_type": "stream",
     "text": [
      "100%|████████████████████████████████████████████████████████████████████████████| 251/251 [00:10<00:00, 24.39it/s]\n"
     ]
    },
    {
     "name": "stdout",
     "output_type": "stream",
     "text": [
      "20190403-20190527: I:\\ASDC - II\\11887_Filter\\20190403-20190527 directory created\n"
     ]
    },
    {
     "name": "stderr",
     "output_type": "stream",
     "text": [
      "100%|████████████████████████████████████████████████████████████████████████████| 300/300 [00:11<00:00, 26.17it/s]\n"
     ]
    },
    {
     "name": "stdout",
     "output_type": "stream",
     "text": [
      "20190403-20190528: I:\\ASDC - II\\11887_Filter\\20190403-20190528 directory created\n"
     ]
    },
    {
     "name": "stderr",
     "output_type": "stream",
     "text": [
      "100%|████████████████████████████████████████████████████████████████████████████| 416/416 [00:15<00:00, 26.49it/s]\n"
     ]
    },
    {
     "name": "stdout",
     "output_type": "stream",
     "text": [
      "20190404-20190527: I:\\ASDC - II\\11887_Filter\\20190404-20190527 directory created\n"
     ]
    },
    {
     "name": "stderr",
     "output_type": "stream",
     "text": [
      "100%|████████████████████████████████████████████████████████████████████████████| 252/252 [00:09<00:00, 27.10it/s]\n"
     ]
    },
    {
     "name": "stdout",
     "output_type": "stream",
     "text": [
      "20190407-20190528: I:\\ASDC - II\\11887_Filter\\20190407-20190528 directory created\n"
     ]
    },
    {
     "name": "stderr",
     "output_type": "stream",
     "text": [
      "100%|████████████████████████████████████████████████████████████████████████████| 168/168 [00:06<00:00, 26.18it/s]\n"
     ]
    },
    {
     "name": "stdout",
     "output_type": "stream",
     "text": [
      "20190409-20190528: I:\\ASDC - II\\11887_Filter\\20190409-20190528 directory created\n"
     ]
    },
    {
     "name": "stderr",
     "output_type": "stream",
     "text": [
      "100%|████████████████████████████████████████████████████████████████████████████| 378/378 [00:18<00:00, 19.97it/s]\n"
     ]
    },
    {
     "name": "stdout",
     "output_type": "stream",
     "text": [
      "20190410-20190528: I:\\ASDC - II\\11887_Filter\\20190410-20190528 directory created\n"
     ]
    },
    {
     "name": "stderr",
     "output_type": "stream",
     "text": [
      "100%|████████████████████████████████████████████████████████████████████████████| 666/666 [00:25<00:00, 26.22it/s]\n"
     ]
    },
    {
     "name": "stdout",
     "output_type": "stream",
     "text": [
      "C26: I:\\ASDC - II\\12612_Filter\\C26 directory created\n"
     ]
    },
    {
     "name": "stderr",
     "output_type": "stream",
     "text": [
      "100%|██████████████████████████████████████████████████████████████████████████| 1353/1353 [01:15<00:00, 18.03it/s]\n"
     ]
    },
    {
     "name": "stdout",
     "output_type": "stream",
     "text": [
      "D12: I:\\ASDC - II\\12612_Filter\\D12 directory created\n"
     ]
    },
    {
     "name": "stderr",
     "output_type": "stream",
     "text": [
      "100%|████████████████████████████████████████████████████████████████████████████| 405/405 [00:21<00:00, 18.56it/s]\n"
     ]
    },
    {
     "name": "stdout",
     "output_type": "stream",
     "text": [
      "D19: I:\\ASDC - II\\12612_Filter\\D19 directory created\n"
     ]
    },
    {
     "name": "stderr",
     "output_type": "stream",
     "text": [
      "100%|██████████████████████████████████████████████████████████████████████████| 1104/1104 [01:01<00:00, 17.94it/s]\n"
     ]
    },
    {
     "name": "stdout",
     "output_type": "stream",
     "text": [
      "D20: I:\\ASDC - II\\12612_Filter\\D20 directory created\n"
     ]
    },
    {
     "name": "stderr",
     "output_type": "stream",
     "text": [
      "100%|██████████████████████████████████████████████████████████████████████████| 1209/1209 [01:10<00:00, 17.17it/s]\n"
     ]
    },
    {
     "name": "stdout",
     "output_type": "stream",
     "text": [
      "D25: I:\\ASDC - II\\12612_Filter\\D25 directory created\n"
     ]
    },
    {
     "name": "stderr",
     "output_type": "stream",
     "text": [
      "100%|████████████████████████████████████████████████████████████████████████████| 181/181 [00:13<00:00, 13.50it/s]\n"
     ]
    },
    {
     "name": "stdout",
     "output_type": "stream",
     "text": [
      "B99: I:\\ASDC - II\\14851_Filter\\B99 directory created\n"
     ]
    },
    {
     "name": "stderr",
     "output_type": "stream",
     "text": [
      "100%|████████████████████████████████████████████████████████████████████████████| 113/113 [00:13<00:00,  8.52it/s]\n"
     ]
    },
    {
     "name": "stdout",
     "output_type": "stream",
     "text": [
      "C10: I:\\ASDC - II\\14851_Filter\\C10 directory created\n"
     ]
    },
    {
     "name": "stderr",
     "output_type": "stream",
     "text": [
      "100%|████████████████████████████████████████████████████████████████████████████| 500/500 [00:55<00:00,  8.99it/s]\n"
     ]
    },
    {
     "name": "stdout",
     "output_type": "stream",
     "text": [
      "C22: I:\\ASDC - II\\14851_Filter\\C22 directory created\n"
     ]
    },
    {
     "name": "stderr",
     "output_type": "stream",
     "text": [
      "100%|████████████████████████████████████████████████████████████████████████████| 620/620 [01:11<00:00,  8.69it/s]\n"
     ]
    },
    {
     "name": "stdout",
     "output_type": "stream",
     "text": [
      "C29: I:\\ASDC - II\\14851_Filter\\C29 directory created\n"
     ]
    },
    {
     "name": "stderr",
     "output_type": "stream",
     "text": [
      "100%|████████████████████████████████████████████████████████████████████████████| 760/760 [01:28<00:00,  8.60it/s]\n"
     ]
    },
    {
     "name": "stdout",
     "output_type": "stream",
     "text": [
      "D04: I:\\ASDC - II\\14851_Filter\\D04 directory created\n"
     ]
    },
    {
     "name": "stderr",
     "output_type": "stream",
     "text": [
      "100%|████████████████████████████████████████████████████████████████████████████| 630/630 [01:13<00:00,  8.53it/s]\n"
     ]
    },
    {
     "name": "stdout",
     "output_type": "stream",
     "text": [
      "D14: I:\\ASDC - II\\14851_Filter\\D14 directory created\n"
     ]
    },
    {
     "name": "stderr",
     "output_type": "stream",
     "text": [
      "100%|████████████████████████████████████████████████████████████████████████████| 612/612 [01:07<00:00,  9.10it/s]\n"
     ]
    },
    {
     "name": "stdout",
     "output_type": "stream",
     "text": [
      "D22: I:\\ASDC - II\\14851_Filter\\D22 directory created\n"
     ]
    },
    {
     "name": "stderr",
     "output_type": "stream",
     "text": [
      "100%|██████████████████████████████████████████████████████████████████████████| 1410/1410 [02:43<00:00,  8.62it/s]\n"
     ]
    },
    {
     "name": "stdout",
     "output_type": "stream",
     "text": [
      "D29: I:\\ASDC - II\\14851_Filter\\D29 directory created\n"
     ]
    },
    {
     "name": "stderr",
     "output_type": "stream",
     "text": [
      "100%|████████████████████████████████████████████████████████████████████████████| 290/290 [00:33<00:00,  8.78it/s]\n"
     ]
    },
    {
     "name": "stdout",
     "output_type": "stream",
     "text": [
      "D47: I:\\ASDC - II\\14851_Filter\\D47 directory created\n"
     ]
    },
    {
     "name": "stderr",
     "output_type": "stream",
     "text": [
      "100%|████████████████████████████████████████████████████████████████████████████| 915/915 [01:47<00:00,  8.54it/s]\n"
     ]
    },
    {
     "name": "stdout",
     "output_type": "stream",
     "text": [
      "D66: I:\\ASDC - II\\14851_Filter\\D66 directory created\n"
     ]
    },
    {
     "name": "stderr",
     "output_type": "stream",
     "text": [
      "100%|████████████████████████████████████████████████████████████████████████████| 965/965 [01:49<00:00,  8.85it/s]\n"
     ]
    },
    {
     "name": "stdout",
     "output_type": "stream",
     "text": [
      "H15: I:\\ASDC - II\\14851_Filter\\H15 directory created\n"
     ]
    },
    {
     "name": "stderr",
     "output_type": "stream",
     "text": [
      "100%|██████████████████████████████████████████████████████████████████████████| 1756/1756 [01:16<00:00, 23.02it/s]\n"
     ]
    },
    {
     "name": "stdout",
     "output_type": "stream",
     "text": [
      "R02: I:\\ASDC - II\\14851_Filter\\R02 directory created\n"
     ]
    },
    {
     "name": "stderr",
     "output_type": "stream",
     "text": [
      "100%|████████████████████████████████████████████████████████████████████████████| 771/771 [00:31<00:00, 24.70it/s]\n"
     ]
    },
    {
     "name": "stdout",
     "output_type": "stream",
     "text": [
      "R11: I:\\ASDC - II\\14851_Filter\\R11 directory created\n"
     ]
    },
    {
     "name": "stderr",
     "output_type": "stream",
     "text": [
      "100%|██████████████████████████████████████████████████████████████████████████| 1023/1023 [00:45<00:00, 22.61it/s]\n"
     ]
    },
    {
     "name": "stdout",
     "output_type": "stream",
     "text": [
      "100RECNX: I:\\ASDC - II\\15839_Filter\\100RECNX directory created\n"
     ]
    },
    {
     "name": "stderr",
     "output_type": "stream",
     "text": [
      "100%|██████████████████████████████████████████████████████████████████████████| 2210/2210 [01:47<00:00, 20.53it/s]\n"
     ]
    },
    {
     "name": "stdout",
     "output_type": "stream",
     "text": [
      "101RECNX: I:\\ASDC - II\\15839_Filter\\101RECNX directory created\n"
     ]
    },
    {
     "name": "stderr",
     "output_type": "stream",
     "text": [
      "100%|██████████████████████████████████████████████████████████████████████████| 3402/3402 [02:39<00:00, 21.38it/s]\n"
     ]
    },
    {
     "name": "stdout",
     "output_type": "stream",
     "text": [
      "102RECNX: I:\\ASDC - II\\15839_Filter\\102RECNX directory created\n"
     ]
    },
    {
     "name": "stderr",
     "output_type": "stream",
     "text": [
      "100%|████████████████████████████████████████████████████████████████████████████| 840/840 [00:40<00:00, 20.61it/s]\n"
     ]
    },
    {
     "name": "stdout",
     "output_type": "stream",
     "text": [
      "W01_RM: I:\\ASDC - II\\15839_Filter\\W01_RM directory created\n"
     ]
    },
    {
     "name": "stderr",
     "output_type": "stream",
     "text": [
      "100%|████████████████████████████████████████████████████████████████████████████| 984/984 [00:51<00:00, 19.14it/s]\n"
     ]
    },
    {
     "name": "stdout",
     "output_type": "stream",
     "text": [
      "W03_RM: I:\\ASDC - II\\15839_Filter\\W03_RM directory created\n"
     ]
    },
    {
     "name": "stderr",
     "output_type": "stream",
     "text": [
      "100%|████████████████████████████████████████████████████████████████████████████| 862/862 [00:47<00:00, 18.32it/s]\n"
     ]
    },
    {
     "name": "stdout",
     "output_type": "stream",
     "text": [
      "W32_SH: I:\\ASDC - II\\15839_Filter\\W32_SH directory created\n"
     ]
    },
    {
     "name": "stderr",
     "output_type": "stream",
     "text": [
      "100%|████████████████████████████████████████████████████████████████████████████| 841/841 [00:46<00:00, 17.99it/s]\n"
     ]
    },
    {
     "name": "stdout",
     "output_type": "stream",
     "text": [
      "Site 4 Hairtube 1: I:\\ASDC - II\\3797_Filter\\Site 4 Hairtube 1 directory created\n"
     ]
    },
    {
     "name": "stderr",
     "output_type": "stream",
     "text": [
      "100%|████████████████████████████████████████████████████████████████████████████| 364/364 [00:16<00:00, 22.31it/s]\n"
     ]
    },
    {
     "name": "stdout",
     "output_type": "stream",
     "text": [
      "Site 5 Hairtube 1: I:\\ASDC - II\\3797_Filter\\Site 5 Hairtube 1 directory created\n"
     ]
    },
    {
     "name": "stderr",
     "output_type": "stream",
     "text": [
      "100%|████████████████████████████████████████████████████████████████████████████| 279/279 [00:15<00:00, 18.23it/s]\n"
     ]
    },
    {
     "name": "stdout",
     "output_type": "stream",
     "text": [
      "Site 5 Hairtube 7: I:\\ASDC - II\\3797_Filter\\Site 5 Hairtube 7 directory created\n"
     ]
    },
    {
     "name": "stderr",
     "output_type": "stream",
     "text": [
      "100%|████████████████████████████████████████████████████████████████████████████| 129/129 [00:09<00:00, 14.24it/s]\n"
     ]
    },
    {
     "name": "stdout",
     "output_type": "stream",
     "text": [
      "Site 6 Hairtube 6: I:\\ASDC - II\\3797_Filter\\Site 6 Hairtube 6 directory created\n"
     ]
    },
    {
     "name": "stderr",
     "output_type": "stream",
     "text": [
      "100%|██████████████████████████████████████████████████████████████████████████████| 99/99 [00:05<00:00, 19.77it/s]\n"
     ]
    },
    {
     "name": "stdout",
     "output_type": "stream",
     "text": [
      "Camera 13: I:\\ASDC - II\\5523_Filter\\Camera 13 directory created\n"
     ]
    },
    {
     "name": "stderr",
     "output_type": "stream",
     "text": [
      "100%|████████████████████████████████████████████████████████████████████████████| 228/228 [00:16<00:00, 13.79it/s]\n"
     ]
    },
    {
     "name": "stdout",
     "output_type": "stream",
     "text": [
      "Camera 9: I:\\ASDC - II\\5523_Filter\\Camera 9 directory created\n"
     ]
    },
    {
     "name": "stderr",
     "output_type": "stream",
     "text": [
      "100%|██████████████████████████████████████████████████████████████████████████████| 94/94 [00:07<00:00, 12.79it/s]\n"
     ]
    },
    {
     "name": "stdout",
     "output_type": "stream",
     "text": [
      "Site 1c east: I:\\ASDC - II\\5523_Filter\\Site 1c east directory created\n"
     ]
    },
    {
     "name": "stderr",
     "output_type": "stream",
     "text": [
      "100%|████████████████████████████████████████████████████████████████████████████| 275/275 [00:20<00:00, 13.74it/s]\n"
     ]
    },
    {
     "name": "stdout",
     "output_type": "stream",
     "text": [
      "Site 3b west: I:\\ASDC - II\\5523_Filter\\Site 3b west directory created\n"
     ]
    },
    {
     "name": "stderr",
     "output_type": "stream",
     "text": [
      "100%|████████████████████████████████████████████████████████████████████████████| 107/107 [00:07<00:00, 13.97it/s]\n"
     ]
    },
    {
     "name": "stdout",
     "output_type": "stream",
     "text": [
      "Site 3e east: I:\\ASDC - II\\5523_Filter\\Site 3e east directory created\n"
     ]
    },
    {
     "name": "stderr",
     "output_type": "stream",
     "text": [
      "100%|████████████████████████████████████████████████████████████████████████████| 310/310 [00:22<00:00, 13.59it/s]\n"
     ]
    }
   ],
   "source": [
    "from tqdm import tqdm\n",
    "input_dir_path = os.path.join(r\"I:\\ASDC - II\")\n",
    "input_dir_list = os.listdir(input_dir_path)\n",
    "for survey_id in input_dir_list:\n",
    "    # print(survey_id)\n",
    "    survey_dir_path = os.path.join(input_dir_path, survey_id)\n",
    "    if os.path.isdir(survey_dir_path):\n",
    "        survey_dir_list = os.listdir(survey_dir_path)\n",
    "        for site_id in survey_dir_list:\n",
    "            # print(site_id)\n",
    "            site_id_path = os.path.join(survey_dir_path, site_id)\n",
    "            if os.path.isdir(site_id_path):\n",
    "                # print(site_id_path)\n",
    "                site_id_list = os.listdir(site_id_path)\n",
    "                output_dir_path = os.path.join(f\"{survey_dir_path}_Filter\", site_id)\n",
    "                create_directory(output_dir_path)\n",
    "                for img_file in tqdm(site_id_list):\n",
    "                    img_file_path = os.path.join(site_id_path, img_file)\n",
    "                    MegaDetector_Filter(img_file_path, output_dir_path)\n",
    "                torch.cuda.empty_cache()"
   ]
  },
  {
   "cell_type": "code",
   "execution_count": null,
   "id": "dac613dd",
   "metadata": {},
   "outputs": [],
   "source": []
  }
 ],
 "metadata": {
  "kernelspec": {
   "display_name": "Python 3 (ipykernel)",
   "language": "python",
   "name": "python3"
  },
  "language_info": {
   "codemirror_mode": {
    "name": "ipython",
    "version": 3
   },
   "file_extension": ".py",
   "mimetype": "text/x-python",
   "name": "python",
   "nbconvert_exporter": "python",
   "pygments_lexer": "ipython3",
   "version": "3.9.18"
  }
 },
 "nbformat": 4,
 "nbformat_minor": 5
}
